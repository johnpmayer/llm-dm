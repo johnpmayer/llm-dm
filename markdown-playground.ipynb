{
 "cells": [
  {
   "cell_type": "code",
   "execution_count": 11,
   "metadata": {},
   "outputs": [],
   "source": [
    "class GeneratorConfig:\n",
    "    def __init__(self, entity_singular, entity_plural, prompt):\n",
    "        self.entity_singular = entity_singular\n",
    "        self.entity_plural = entity_plural\n",
    "        self.prompt = prompt"
   ]
  },
  {
   "cell_type": "code",
   "execution_count": 2,
   "metadata": {},
   "outputs": [],
   "source": [
    "from pathlib import Path\n",
    "\n",
    "organization = \"org-NaDNa5c5In5LspIF45qqArRr\" # This is mine. You should change it!\n",
    "\n",
    "keyfile = Path.home() / '.openai' / 'api.key'\n",
    "with open(keyfile) as f:\n",
    "    api_key = f.readline().strip()\n",
    "\n",
    "import openai\n",
    "openai.organization = organization\n",
    "openai.api_key = api_key\n",
    "\n",
    "gpt_model_name = \"gpt-3.5-turbo\"\n",
    "\n",
    "def basic_completion(user_prompt, max_tokens=50):\n",
    "    x = openai.ChatCompletion.create(\n",
    "        model = gpt_model_name,\n",
    "        messages = [\n",
    "            {'role': 'user', 'content': user_prompt}\n",
    "        ],\n",
    "        max_tokens = max_tokens\n",
    "    )\n",
    "    return x.choices[0].message['content']"
   ]
  },
  {
   "cell_type": "code",
   "execution_count": 3,
   "metadata": {},
   "outputs": [
    {
     "name": "stdout",
     "output_type": "stream",
     "text": [
      "# Arvandor\n",
      "\n",
      "## Eldrida\n",
      "\n",
      "Eldrida is a vast continent shaped like a crescent moon, cradling the Emerald Sea in its gentle arc. The north and east coasts are mountainous and rocky, dotted with glaciers and snow-capped peaks. The western and southern coasts are warmer and lush, with sandy beaches and dense forests. The central portion of the continent is a vast steppe that stretches from end to end, where the winds blow freely and nomadic tribes follow their herds.\n",
      "\n",
      "The northern coast is the most prosperous region of Eldrida, with bustling port cities like Xanthar and Vernathia. These ancient cities are built on cliffs and overlook the sea, and have thrived on trade for centuries. The east coast is home to the dwarves of the Iron Mountains, who mine gold, silver, and precious gems from the rugged heights. To the west, the forests are inhabited by elves and the fey, who work together to create magical items and protect the natural balance. The southern coast is a wild frontier, where pirates and adventurers brave the sea and compete for treasure.\n",
      "\n",
      "## Azurene\n",
      "\n",
      "Azurene is a continent of contrasts, where towering mountains and lush jungles meet in a riot of colors and sounds. The north is dominated by the Azurene Desert, a vast wasteland of sand and rock that few dare to cross. To the west, the Barren Peaks loom high and forbidding, with narrow passes guarded by fierce ogres and trolls. In the center of the continent lies the Azurene River, a broad swath of green that winds its way through the dense jungle.\n",
      "\n",
      "The jungles of Azurene are home to a myriad of exotic plants and animals, as well as many races of humanoids. Elves, halflings, and lizardfolk are common, as are tribes of orcs and goblinoids. The dwarves have mined the Barren Peaks for millennia, and their strongholds are the only oases of civilization in the harsh region. The ruins of ancient civilizations are scattered throughout the continent, containing untold riches and dark secrets.\n",
      "\n",
      "## Niflheim\n",
      "\n",
      "Niflheim is a continent of ice and fire, where the elements battle for supremacy. The northern regions are dominated by the Frozen Wastes, an endless expanse of snow and ice where few living things can survive. To the south, volcanoes spit fire and ash into the air, creating a desolate landscape of rocky outcrops and boiling mudpots. Between these extremes lie dark forests and treacherous swamps, where the undead lurk and ancient evils stir.\n",
      "\n",
      "The inhabitants of Niflheim are hardy and fierce, adapted to the harsh conditions of their homeland. The dwarves have carved out underground cities in the Frozen Wastes, where they mine precious metals and gems. The barbaric tribes of the south worship fire and demons, and raid the northern settlements for slaves and loot. The elves and other goodly races are present, but are a small and beleaguered minority in this hostile land.\n"
     ]
    }
   ],
   "source": [
    "world_ped_prompt = \"\"\"\n",
    "Improvise a fictional fantasy world geography for a D&D 5e campaign setting.\n",
    "\n",
    "The response should be formatted as markdown, in the following format.\n",
    "\n",
    "# <World Name>\n",
    "\n",
    "## <First Continent Name>\n",
    "\n",
    "<First paragraph - Description of the continent's geography. Should desribe the major topographical features, regions, climates, and biomes. MUST NOT describe the inhabitants>\n",
    "\n",
    "<Second paragraph - Description of the economic activity, degree of settlement, and races of the inhabitants for the regions in the continent.>\n",
    "\n",
    "## <Second Continent Name>\n",
    "\n",
    "<similar>\n",
    "\n",
    "## <Third Continent Name>\n",
    "\n",
    "<similar>\n",
    "\"\"\"\n",
    "\n",
    "world = basic_completion(world_ped_prompt, max_tokens=1024)\n",
    "print(world)"
   ]
  },
  {
   "cell_type": "code",
   "execution_count": 5,
   "metadata": {},
   "outputs": [
    {
     "data": {
      "text/plain": [
       "('Arvandor',\n",
       " [('Eldrida',\n",
       "   'Eldrida is a vast continent shaped like a crescent moon, cradling the Emerald Sea in its gentle arc. The north and east coasts are mountainous and rocky, dotted with glaciers and snow-capped peaks. The western and southern coasts are warmer and lush, with sandy beaches and dense forests. The central portion of the continent is a vast steppe that stretches from end to end, where the winds blow freely and nomadic tribes follow their herds.',\n",
       "   'The northern coast is the most prosperous region of Eldrida, with bustling port cities like Xanthar and Vernathia. These ancient cities are built on cliffs and overlook the sea, and have thrived on trade for centuries. The east coast is home to the dwarves of the Iron Mountains, who mine gold, silver, and precious gems from the rugged heights. To the west, the forests are inhabited by elves and the fey, who work together to create magical items and protect the natural balance. The southern coast is a wild frontier, where pirates and adventurers brave the sea and compete for treasure.'),\n",
       "  ('Azurene',\n",
       "   'Azurene is a continent of contrasts, where towering mountains and lush jungles meet in a riot of colors and sounds. The north is dominated by the Azurene Desert, a vast wasteland of sand and rock that few dare to cross. To the west, the Barren Peaks loom high and forbidding, with narrow passes guarded by fierce ogres and trolls. In the center of the continent lies the Azurene River, a broad swath of green that winds its way through the dense jungle.',\n",
       "   'The jungles of Azurene are home to a myriad of exotic plants and animals, as well as many races of humanoids. Elves, halflings, and lizardfolk are common, as are tribes of orcs and goblinoids. The dwarves have mined the Barren Peaks for millennia, and their strongholds are the only oases of civilization in the harsh region. The ruins of ancient civilizations are scattered throughout the continent, containing untold riches and dark secrets.'),\n",
       "  ('Niflheim',\n",
       "   'Niflheim is a continent of ice and fire, where the elements battle for supremacy. The northern regions are dominated by the Frozen Wastes, an endless expanse of snow and ice where few living things can survive. To the south, volcanoes spit fire and ash into the air, creating a desolate landscape of rocky outcrops and boiling mudpots. Between these extremes lie dark forests and treacherous swamps, where the undead lurk and ancient evils stir.',\n",
       "   'The inhabitants of Niflheim are hardy and fierce, adapted to the harsh conditions of their homeland. The dwarves have carved out underground cities in the Frozen Wastes, where they mine precious metals and gems. The barbaric tribes of the south worship fire and demons, and raid the northern settlements for slaves and loot. The elves and other goodly races are present, but are a small and beleaguered minority in this hostile land.')])"
      ]
     },
     "execution_count": 5,
     "metadata": {},
     "output_type": "execute_result"
    }
   ],
   "source": [
    "from mistletoe import Document\n",
    "\n",
    "world_doc = Document(world)\n",
    "\n",
    "raw_texts = [node.children[0].content for node in world_doc.children]\n",
    "\n",
    "world_name = raw_texts[0]\n",
    "world_name\n",
    "\n",
    "i = 0\n",
    "continent_raws = raw_texts[1:]\n",
    "continents = []\n",
    "while 3*i+2 < len(continent_raws):\n",
    "    offset = 3*i\n",
    "    name = continent_raws[offset]\n",
    "    geography = continent_raws[offset + 1]\n",
    "    economy = continent_raws[offset + 2]\n",
    "    continents.append((name, geography, economy))\n",
    "    i += 1\n",
    "\n",
    "(world_name, continents)"
   ]
  },
  {
   "cell_type": "code",
   "execution_count": 6,
   "metadata": {},
   "outputs": [
    {
     "name": "stdout",
     "output_type": "stream",
     "text": [
      "# Eldrida\n",
      "\n",
      "## Northern Coast\n",
      "\n",
      "The Northern Coast of Eldrida is a rugged and mountainous region with heavy snowfall and bitter cold. The coast is dotted with glaciers and peppered with jagged peaks that descend steeply into the Emerald Sea. The region is known for its rich natural resources such as timber, furs, and precious stones, but it is the bustling port cities of Xanthar and Vernathia that drive the region's economy. These cities are built high on cliffs overlooking the sea, and have become wealthy by trading with the other nations of Eldrida.\n",
      "\n",
      "The inhabitants of the Northern Coast are a mix of humans, dwarves, and gnomes who live in small towns throughout the region. The dwarves of the Iron Mountains to the east have carved out vast underground mines that yield gold, silver, and precious gems, which are traded in the coastal cities. The gnomes of the region use their expertise in mechanics and clockwork to create intricate devices that are often bought up by the wealthy merchants of Xanthar and Vernathia. The two dominant factions in the region are the Xantharian Merchants' Guild and the Vernathian Seafaring Coalition, who wage a cold war against each other for control of the Northern Coast's lucrative trade routes.\n",
      "\n",
      "## Western Forests\n",
      "\n",
      "The Western Forests of Eldrida are a lush and vibrant region, with tall trees that sway gently in the wind and babbling brooks that flow towards the sea. The forest floor is blanketed in a bed of soft moss and ferns, and the air is thick with the sweet scent of blossoming flowers. The region is home to the elven communities who have formed an alliance with the fey creatures of the forest. Together they use their deep connection with nature to create magical items that are highly sought after by adventurers from across Eldrida.\n",
      "\n",
      "The inhabitants of the Western Forests are mainly elves of various subraces, who live in harmony with the fey creatures of the forest. The two groups work together to protect the natural balance of Eldrida, while also using their skills to create magical items such as weapons, potions, and enchanted trinkets. The major power factions are the Elven Council, a group of leaders from each of the elven communities who make decisions that affect the entire region, and the Fey Court, a council of powerful fey creatures who have the power to bend nature to their will.\n",
      "\n",
      "## Central Steppes\n",
      "\n",
      "The Central Steppes of Eldrida are a vast and open region with flat plains that stretch to the horizon. The grasslands are home to large roaming herds of deer and buffalo, which are hunted by the nomadic tribes that traverse the steppes. The winds that blow across the plains are strong and unimpeded, allowing these tribes to travel great distances and follow their herds to greener pastures.\n",
      "\n",
      "The inhabitants of the Central Steppes are various tribes of humans, half-orcs, and centaurs, who live in large tents made of animal hides and travel with their herds. They are skilled hunters and gathers, and have developed a culture that is deeply connected to the land and the animals they use for food and supplies. The major power factions in the region are the various tribal leaders who vie for control of resources and territory, but there are rumors of a secretive group of powerful mages who are said to be plotting something that could shift the balance of power on Eldrida.\n"
     ]
    }
   ],
   "source": [
    "def continent_ped_prompt(continent): return f\"\"\"\n",
    "Improvise the details of a continent's regions in a fantasy world for a D&D 5e campaign setting.\n",
    "\n",
    "The continent's name is {(continent[0])}\n",
    "{continent[1]}\n",
    "{continent[2]}\n",
    "\n",
    "The response should be formatted as markdown, in the following format.\n",
    "\n",
    "# <Continent Name>\n",
    "\n",
    "## <First Region Name>\n",
    "\n",
    "<First paragraph - Description of the region's geography. Should describe geographical points of interest, climate, biome, and natural resources. MUST NOT describe the inhabitants.>\n",
    "\n",
    "<Second paragraph - Description of the region's inhabitants. Should describe the races, major economic activities, and the major power factions.>\n",
    "\n",
    "## <Second Region Name>\n",
    "\n",
    "<similar>\n",
    "\n",
    "...etc\n",
    "\n",
    "\"\"\"\n",
    "\n",
    "continent_response = basic_completion(continent_ped_prompt(continents[0]), max_tokens=1024)\n",
    "print(continent_response)"
   ]
  },
  {
   "cell_type": "code",
   "execution_count": 7,
   "metadata": {},
   "outputs": [
    {
     "data": {
      "text/plain": [
       "('Eldrida',\n",
       " [('Northern Coast',\n",
       "   \"The Northern Coast of Eldrida is a rugged and mountainous region with heavy snowfall and bitter cold. The coast is dotted with glaciers and peppered with jagged peaks that descend steeply into the Emerald Sea. The region is known for its rich natural resources such as timber, furs, and precious stones, but it is the bustling port cities of Xanthar and Vernathia that drive the region's economy. These cities are built high on cliffs overlooking the sea, and have become wealthy by trading with the other nations of Eldrida.\",\n",
       "   \"The inhabitants of the Northern Coast are a mix of humans, dwarves, and gnomes who live in small towns throughout the region. The dwarves of the Iron Mountains to the east have carved out vast underground mines that yield gold, silver, and precious gems, which are traded in the coastal cities. The gnomes of the region use their expertise in mechanics and clockwork to create intricate devices that are often bought up by the wealthy merchants of Xanthar and Vernathia. The two dominant factions in the region are the Xantharian Merchants' Guild and the Vernathian Seafaring Coalition, who wage a cold war against each other for control of the Northern Coast's lucrative trade routes.\"),\n",
       "  ('Western Forests',\n",
       "   'The Western Forests of Eldrida are a lush and vibrant region, with tall trees that sway gently in the wind and babbling brooks that flow towards the sea. The forest floor is blanketed in a bed of soft moss and ferns, and the air is thick with the sweet scent of blossoming flowers. The region is home to the elven communities who have formed an alliance with the fey creatures of the forest. Together they use their deep connection with nature to create magical items that are highly sought after by adventurers from across Eldrida.',\n",
       "   'The inhabitants of the Western Forests are mainly elves of various subraces, who live in harmony with the fey creatures of the forest. The two groups work together to protect the natural balance of Eldrida, while also using their skills to create magical items such as weapons, potions, and enchanted trinkets. The major power factions are the Elven Council, a group of leaders from each of the elven communities who make decisions that affect the entire region, and the Fey Court, a council of powerful fey creatures who have the power to bend nature to their will.'),\n",
       "  ('Central Steppes',\n",
       "   'The Central Steppes of Eldrida are a vast and open region with flat plains that stretch to the horizon. The grasslands are home to large roaming herds of deer and buffalo, which are hunted by the nomadic tribes that traverse the steppes. The winds that blow across the plains are strong and unimpeded, allowing these tribes to travel great distances and follow their herds to greener pastures.',\n",
       "   'The inhabitants of the Central Steppes are various tribes of humans, half-orcs, and centaurs, who live in large tents made of animal hides and travel with their herds. They are skilled hunters and gathers, and have developed a culture that is deeply connected to the land and the animals they use for food and supplies. The major power factions in the region are the various tribal leaders who vie for control of resources and territory, but there are rumors of a secretive group of powerful mages who are said to be plotting something that could shift the balance of power on Eldrida.')])"
      ]
     },
     "execution_count": 7,
     "metadata": {},
     "output_type": "execute_result"
    }
   ],
   "source": [
    "from mistletoe import Document\n",
    "\n",
    "continent_doc = Document(continent_response)\n",
    "\n",
    "raw_texts = [node.children[0].content for node in continent_doc.children]\n",
    "\n",
    "continent_name = raw_texts[0]\n",
    "continent_name\n",
    "\n",
    "i = 0\n",
    "region_raws = raw_texts[1:]\n",
    "regions = []\n",
    "while 3*i+2 < len(region_raws):\n",
    "    offset = 3*i\n",
    "    name = region_raws[offset]\n",
    "    geography = region_raws[offset + 1]\n",
    "    economy = region_raws[offset + 2]\n",
    "    regions.append((name, geography, economy))\n",
    "    i += 1\n",
    "\n",
    "(continent_name, regions)"
   ]
  },
  {
   "cell_type": "code",
   "execution_count": 8,
   "metadata": {},
   "outputs": [
    {
     "name": "stdout",
     "output_type": "stream",
     "text": [
      "# Northern Coast\n",
      "\n",
      "## Xanthar\n",
      "\n",
      "Xanthar is a bustling port city built high on a cliff overlooking the Emerald Sea. Its main source of income is its thriving trade with other nations of Eldrida, thanks to its strategic location and wealthy merchants' guild. The city is populated mostly by humans and gnomes, who use their expertise in mechanics to create intricate clockwork devices that are in high demand. Xanthar is also known for its fine jewelry, which is made from the precious gems mined in the Iron Mountains to the east. \n",
      "\n",
      "Politically, Xanthar is ruled by the Xantharian Merchants' Guild, which has a firm grip on the city's resources and trade. The guild's leader is a shrewd and ambitious woman named Lirien, who is always on the lookout for new business opportunities and ways to outmaneuver her rivals. Despite her savvy business sense, Lirien is not well-liked by the common people of Xanthar, who see her as greedy and cutthroat.\n",
      "\n",
      "## Vernathia\n",
      "\n",
      "Vernathia is another port city located on the Northern Coast, and it too is built high on a cliff overlooking the sea. Its main source of income is its seafaring industry, which ranges from fishing to naval exploration. The city is populated mostly by humans and dwarves, who work together to build sturdy ships for the Vernathian Seafaring Coalition. \n",
      "\n",
      "Politically, Vernathia is ruled by the coalition's leader, a grizzled veteran named Captain Orin. Orin is a no-nonsense leader who values loyalty above all else, and he has a strict code of conduct that his sailors must follow. The Vernathian Seafaring Coalition is always on the lookout for new trade opportunities, but they are fiercely protective of their own interests and will do whatever it takes to keep their rivals in check.\n"
     ]
    }
   ],
   "source": [
    "def region_ped_prompt(region): return f\"\"\"\n",
    "Improvise the details of a region's settlements in a fantasy world for a D&D 5e campaign setting.\n",
    "\n",
    "The region's name is {region[0]}\n",
    "{region[1]}\n",
    "{region[2]}\n",
    "\n",
    "The response should be formatted as markdown, in the following format.\n",
    "\n",
    "# Region Name\n",
    "\n",
    "## <First Settlement Name>\n",
    "\n",
    "<First paragraph - Description of the settlement's location, economy, and size>\n",
    "\n",
    "<Second paragraph - Description of the settlement's politics>\n",
    "\n",
    "## <Second Settlement Name>\n",
    "\n",
    "<similar>\n",
    "\n",
    "...etc\n",
    "\n",
    "\"\"\"\n",
    "\n",
    "region_response = basic_completion(region_ped_prompt(regions[0]), max_tokens=1024)\n",
    "print(region_response)"
   ]
  },
  {
   "cell_type": "code",
   "execution_count": 9,
   "metadata": {},
   "outputs": [
    {
     "name": "stdout",
     "output_type": "stream",
     "text": [
      "# The Heist of Xanthar\n",
      "\n",
      "## Lirien, Leader of the Merchants' Guild\n",
      "\n",
      "Lirien has recently acquired a precious jewel, the Heart of Xanthar, which she plans to sell to a wealthy client from across the Emerald Sea. However, a group of thieves have also set their sights on the jewel, and they plan to steal it before it is sold. The players will find themselves caught in the middle of this conflict, as they are hired by Lirien to guard the jewel during its transport.\n",
      "\n",
      "## The Arrival\n",
      "\n",
      "The players are at the docks of Xanthar, waiting for their contact, a gnome named Finni, who is supposed to give them the details of the job. However, Finni is nowhere to be seen. As the players start to worry, they are approached by Finnegan, a tavern owner and friend of Finni. Finnegan tells the players that Finni has been kidnapped by the thieves, and that they need to rescue him before it's too late.\n",
      "\n",
      "## The Ambush\n",
      "\n",
      "As the players make their way to the thieves' hideout, they are ambushed by a group of bandits. The bandits are armed with swords and crossbows, and they are led by a half-elf named Kael. The players must defeat Kael and his bandits to rescue Finni and continue with their mission.\n",
      "\n",
      "After the fight, the players find a note on Kael's body that reveals the location of the thieves' hideout.\n",
      "\n",
      "## The Heist\n",
      "\n",
      "The players arrive at the thieves' hideout, which is an abandoned warehouse on the outskirts of Xanthar. They are met by the leader of the thieves, a tiefling named Aric, who is in possession of the Heart of Xanthar. Aric offers to trade the jewel for a large sum of gold, but the players can choose to fight instead.\n",
      "\n",
      "If the players choose to fight, they must defeat Aric and his minions in an intense battle with multiple waves of enemies. If the players choose to negotiate, they must convince Aric to hand over the jewel without paying the full amount requested.\n",
      "\n",
      "## Rewards\n",
      "\n",
      "If the players successfully retrieve the jewel and deliver it to Lirien, she rewards them with a large sum of gold and a valuable clockwork device. If the players fail, Lirien cuts off their payment and they are left to deal with the consequences of their actions.\n"
     ]
    }
   ],
   "source": [
    "# TODO - parameterize\n",
    "\n",
    "oneshot_ped_prompt = \"\"\"\n",
    "Xanthar is a bustling port city built high on a cliff overlooking the Emerald Sea. Its main source of income is its thriving trade with other nations of Eldrida, thanks to its strategic location and wealthy merchants' guild. The city is populated mostly by humans and gnomes, who use their expertise in mechanics to create intricate clockwork devices that are in high demand. Xanthar is also known for its fine jewelry, which is made from the precious gems mined in the Iron Mountains to the east. \n",
    "\n",
    "Politically, Xanthar is ruled by the Xantharian Merchants' Guild, which has a firm grip on the city's resources and trade. The guild's leader is a shrewd and ambitious woman named Lirien, who is always on the lookout for new business opportunities and ways to outmaneuver her rivals. Despite her savvy business sense, Lirien is not well-liked by the common people of Xanthar, who see her as greedy and cutthroat.\n",
    "\n",
    "Improvise the details of a one-shot adventure in Xanthar for a D&D 5e setting.\n",
    "\n",
    "The difficulty of the adventure should be tailored to a group of level 1 characters.\n",
    "\n",
    "The complexity and linearity of the adventure should be tailored to new players, and should not take more than 3 hours.\n",
    "\n",
    "The response should have the following format:\n",
    "\n",
    "# <Campaign Name>\n",
    "\n",
    "## <Antagonist's Name>\n",
    "\n",
    "<Paragraph - A description of the antagonists acting in the adventure, including specific hostile NPCs>\n",
    "\n",
    "## <Name of Exposition Act>\n",
    "\n",
    "<Paragraph - A scene where the players' characters meet eachother and an NPC delivers the quest>\n",
    "\n",
    "<Paragraph - Some other notable friendly NPCs in the setting which provide hooks to guide the players to the first encounter>\n",
    "\n",
    "## <Name of Rising Action Act>\n",
    "\n",
    "<Paragraph - A simple encounter, with terrain and enemy details>\n",
    "\n",
    "<Paragraph - A scene after the first encounter with an obvious hook to guide the players to the final encounter>\n",
    "\n",
    "## <Name of Climax Act>\n",
    "\n",
    "<Paragraph - A more challenging final encounter, with terrain and enemy details>\n",
    "\"\"\"\n",
    "\n",
    "oneshot_response = basic_completion(oneshot_ped_prompt, max_tokens=2048)\n",
    "print(oneshot_response)"
   ]
  }
 ],
 "metadata": {
  "kernelspec": {
   "display_name": "llm-gm",
   "language": "python",
   "name": "python3"
  },
  "language_info": {
   "codemirror_mode": {
    "name": "ipython",
    "version": 3
   },
   "file_extension": ".py",
   "mimetype": "text/x-python",
   "name": "python",
   "nbconvert_exporter": "python",
   "pygments_lexer": "ipython3",
   "version": "3.11.3"
  },
  "orig_nbformat": 4
 },
 "nbformat": 4,
 "nbformat_minor": 2
}
