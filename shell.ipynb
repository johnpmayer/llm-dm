{
 "cells": [
  {
   "cell_type": "code",
   "execution_count": 1,
   "metadata": {},
   "outputs": [],
   "source": [
    "from pathlib import Path\n",
    "\n",
    "organization = \"org-NaDNa5c5In5LspIF45qqArRr\" # This is mine. You should change it!\n",
    "\n",
    "keyfile = Path.home() / '.openai' / 'api.key'\n",
    "with open(keyfile) as f:\n",
    "    api_key = f.readline().strip()"
   ]
  },
  {
   "cell_type": "code",
   "execution_count": 2,
   "metadata": {},
   "outputs": [],
   "source": [
    "import openai\n",
    "openai.organization = organization\n",
    "openai.api_key = api_key"
   ]
  },
  {
   "cell_type": "code",
   "execution_count": 3,
   "metadata": {},
   "outputs": [],
   "source": [
    "gpt_model_name = \"gpt-3.5-turbo\""
   ]
  },
  {
   "cell_type": "code",
   "execution_count": 4,
   "metadata": {},
   "outputs": [],
   "source": [
    "def basic_completion(user_prompt, max_tokens=50):\n",
    "    x = openai.ChatCompletion.create(\n",
    "        model = gpt_model_name,\n",
    "        messages = [\n",
    "            {'role': 'user', 'content': user_prompt}\n",
    "        ],\n",
    "        max_tokens = max_tokens\n",
    "    )\n",
    "    return x.choices[0].message"
   ]
  },
  {
   "cell_type": "code",
   "execution_count": 5,
   "metadata": {},
   "outputs": [
    {
     "data": {
      "text/plain": [
       "<OpenAIObject at 0x7f22143bfab0> JSON: {\n",
       "  \"content\": \"Rolling the dice high\\nCrafting each story anew\\nMaster of the depths\",\n",
       "  \"role\": \"assistant\"\n",
       "}"
      ]
     },
     "execution_count": 5,
     "metadata": {},
     "output_type": "execute_result"
    }
   ],
   "source": [
    "basic_completion(\"Write a haiku about being a dungeon master\")"
   ]
  },
  {
   "cell_type": "code",
   "execution_count": 58,
   "metadata": {},
   "outputs": [],
   "source": [
    "system_prompt = '''\n",
    "You are a dungeon master assistant. You will create and improvise world content, behaviors, and events.\n",
    "\n",
    "World lore and game mechanics should be compatible with dungeons and dragons standard fifth edition (5e).\n",
    "\n",
    "All response MUST be in valid YAML format, and MUST NOT contain any other characters.\n",
    "The user expects to be able to parse each raw response as YAML. The response should NOT be formatted as Markdown.\n",
    "'''\n",
    "\n",
    "import yaml\n",
    "\n",
    "def system_completion(user_prompt):\n",
    "    amended_user_prompt = f\"\"\"\n",
    "    {user_prompt}\n",
    "\n",
    "    The response MUST be in valid YAML format, and MUST NOT contain any other characters.\n",
    "    The user expects to be able to parse each raw response as YAML. The response should NOT be formatted as Markdown.\n",
    "    \"\"\"\n",
    "\n",
    "    call = openai.ChatCompletion.create(\n",
    "        model = gpt_model_name,\n",
    "        messages = [\n",
    "            {'role': 'system', 'content': system_prompt},\n",
    "            {'role': 'user', 'content': amended_user_prompt}\n",
    "        ],\n",
    "    )\n",
    "    raw_message = call.choices[0].message['content']\n",
    "    parsed_message = yaml.safe_load(raw_message)\n",
    "    return (raw_message, parsed_message)\n"
   ]
  },
  {
   "cell_type": "code",
   "execution_count": 53,
   "metadata": {},
   "outputs": [
    {
     "name": "stdout",
     "output_type": "stream",
     "text": [
      "name: Alderathia\n"
     ]
    }
   ],
   "source": [
    "(raw_name, parsed_name) = system_completion(\"Generate a name for a fantasy world\")\n",
    "print(raw_name)"
   ]
  },
  {
   "cell_type": "code",
   "execution_count": 66,
   "metadata": {},
   "outputs": [
    {
     "data": {
      "text/plain": [
       "'\\nGenerate the geography of a fictional fantasy world, that will be the setting for the game.\\n\\nThere MUST be at least 3 and no greater than 3 continents in the world.\\nThere MUST be at least 4 and no greater than 7 regions per continent.\\n\\nThe response must be in the following structure. \\n\\ncontinents:\\n    location_in_world: <string>\\n    regions:\\n        location_in_continent: <string>\\n        topography: <string>\\n        climate: <string>\\n        biome: <string>\\n        size: <string>\\n        name: <string>\\n    name: <string>\\n'"
      ]
     },
     "execution_count": 66,
     "metadata": {},
     "output_type": "execute_result"
    }
   ],
   "source": [
    "def range(pair): return f\"at least {pair[0]} and no greater than {pair[1]}\"\n",
    "\n",
    "def geography_prompt(continents=(3,3), regions=(4,7)): return f'''\n",
    "Generate the geography of a fictional fantasy world, that will be the setting for the game.\n",
    "\n",
    "There MUST be {range(continents)} continents in the world.\n",
    "There MUST be {range(regions)} regions per continent.\n",
    "\n",
    "The response must be in the following structure. \n",
    "\n",
    "continents:\n",
    "    location_in_world: <string>\n",
    "    regions:\n",
    "        location_in_continent: <string>\n",
    "        topography: <string>\n",
    "        climate: <string>\n",
    "        biome: <string>\n",
    "        size: <string>\n",
    "        name: <string>\n",
    "    name: <string>\n",
    "'''\n",
    "\n",
    "geography_prompt()"
   ]
  },
  {
   "cell_type": "code",
   "execution_count": 68,
   "metadata": {},
   "outputs": [
    {
     "name": "stdout",
     "output_type": "stream",
     "text": [
      "continents:\n",
      "  - \n",
      "    location_in_world: East Pole\n",
      "    name: Almara\n",
      "    regions:\n",
      "      - \n",
      "        location_in_continent: North\n",
      "        topography: Mountains\n",
      "        climate: Arctic\n",
      "        biome: Tundra\n",
      "        size: Small\n",
      "        name: Frosthold\n",
      "      - \n",
      "        location_in_continent: East\n",
      "        topography: Forests\n",
      "        climate: Temperate\n",
      "        biome: Taiga\n",
      "        size: Medium\n",
      "        name: Linvendale\n",
      "      - \n",
      "        location_in_continent: South\n",
      "        topography: Plains\n",
      "        climate: Dry\n",
      "        biome: Grassland\n",
      "        size: Large\n",
      "        name: Aridum\n",
      "      - \n",
      "        location_in_continent: West\n",
      "        topography: Swamps\n",
      "        climate: Tropical\n",
      "        biome: Wetland\n",
      "        size: Medium\n",
      "        name: Murkwood\n",
      "  - \n",
      "    location_in_world: Equator\n",
      "    name: Isalor\n",
      "    regions:\n",
      "      - \n",
      "        location_in_continent: North\n",
      "        topography: Mountains\n",
      "        climate: Arctic\n",
      "        biome: Tundra\n",
      "        size: Medium\n",
      "        name: Frostfall\n",
      "      - \n",
      "        location_in_continent: Northeast\n",
      "        topography: Forests\n",
      "        climate: Temperate\n",
      "        biome: Taiga\n",
      "        size: Large\n",
      "        name: Elvendom\n",
      "      - \n",
      "        location_in_continent: East\n",
      "        topography: Islands\n",
      "        climate: Tropical\n",
      "        biome: Rainforest\n",
      "        size: Small\n",
      "        name: Merfolk Atoll\n",
      "      - \n",
      "        location_in_continent: Southeast\n",
      "        topography: Coastline\n",
      "        climate: Humid\n",
      "        biome: Tropical Forest\n",
      "        size: Large\n",
      "        name: Mauinoa\n",
      "      - \n",
      "        location_in_continent: South\n",
      "        topography: Mountains\n",
      "        climate: Arid\n",
      "        biome: Desert\n",
      "        size: Medium\n",
      "        name: Sunwall\n",
      "      - \n",
      "        location_in_continent: West\n",
      "        topography: Forests\n",
      "        climate: Temperate\n",
      "        biome: Deciduous Forest\n",
      "        size: Medium\n",
      "        name: Mistwood\n",
      "  - \n",
      "    location_in_world: West Pole\n",
      "    name: Balthor\n",
      "    regions:\n",
      "      - \n",
      "        location_in_continent: North\n",
      "        topography: Mountains\n",
      "        climate: Arctic\n",
      "        biome: Tundra\n",
      "        size: Large\n",
      "        name: Icehold\n",
      "      - \n",
      "        location_in_continent: East\n",
      "        topography: Forests\n",
      "        climate: Temperate\n",
      "        biome: Taiga\n",
      "        size: Medium\n",
      "        name: Duskwood\n",
      "      - \n",
      "        location_in_continent: South\n",
      "        topography: Mountains\n",
      "        climate: Arid\n",
      "        biome: Desert\n",
      "        size: Medium\n",
      "        name: Sandstorm\n",
      "      - \n",
      "        location_in_continent: West\n",
      "        topography: Islands\n",
      "        climate: Tropical\n",
      "        biome: Rainforest\n",
      "        size: Large\n",
      "        name: Jungle Archipelago\n"
     ]
    }
   ],
   "source": [
    "(raw_geography, parsed_geography) = system_completion(geography_prompt())\n",
    "print(raw_geography)"
   ]
  },
  {
   "cell_type": "code",
   "execution_count": 71,
   "metadata": {},
   "outputs": [
    {
     "data": {
      "text/plain": [
       "{'continents': [{'location_in_world': 'East Pole',\n",
       "   'name': 'Almara',\n",
       "   'regions': [{'location_in_continent': 'North',\n",
       "     'topography': 'Mountains',\n",
       "     'climate': 'Arctic',\n",
       "     'biome': 'Tundra',\n",
       "     'size': 'Small',\n",
       "     'name': 'Frosthold'},\n",
       "    {'location_in_continent': 'East',\n",
       "     'topography': 'Forests',\n",
       "     'climate': 'Temperate',\n",
       "     'biome': 'Taiga',\n",
       "     'size': 'Medium',\n",
       "     'name': 'Linvendale'},\n",
       "    {'location_in_continent': 'South',\n",
       "     'topography': 'Plains',\n",
       "     'climate': 'Dry',\n",
       "     'biome': 'Grassland',\n",
       "     'size': 'Large',\n",
       "     'name': 'Aridum'},\n",
       "    {'location_in_continent': 'West',\n",
       "     'topography': 'Swamps',\n",
       "     'climate': 'Tropical',\n",
       "     'biome': 'Wetland',\n",
       "     'size': 'Medium',\n",
       "     'name': 'Murkwood'}]},\n",
       "  {'location_in_world': 'Equator',\n",
       "   'name': 'Isalor',\n",
       "   'regions': [{'location_in_continent': 'North',\n",
       "     'topography': 'Mountains',\n",
       "     'climate': 'Arctic',\n",
       "     'biome': 'Tundra',\n",
       "     'size': 'Medium',\n",
       "     'name': 'Frostfall'},\n",
       "    {'location_in_continent': 'Northeast',\n",
       "     'topography': 'Forests',\n",
       "     'climate': 'Temperate',\n",
       "     'biome': 'Taiga',\n",
       "     'size': 'Large',\n",
       "     'name': 'Elvendom'},\n",
       "    {'location_in_continent': 'East',\n",
       "     'topography': 'Islands',\n",
       "     'climate': 'Tropical',\n",
       "     'biome': 'Rainforest',\n",
       "     'size': 'Small',\n",
       "     'name': 'Merfolk Atoll'},\n",
       "    {'location_in_continent': 'Southeast',\n",
       "     'topography': 'Coastline',\n",
       "     'climate': 'Humid',\n",
       "     'biome': 'Tropical Forest',\n",
       "     'size': 'Large',\n",
       "     'name': 'Mauinoa'},\n",
       "    {'location_in_continent': 'South',\n",
       "     'topography': 'Mountains',\n",
       "     'climate': 'Arid',\n",
       "     'biome': 'Desert',\n",
       "     'size': 'Medium',\n",
       "     'name': 'Sunwall'},\n",
       "    {'location_in_continent': 'West',\n",
       "     'topography': 'Forests',\n",
       "     'climate': 'Temperate',\n",
       "     'biome': 'Deciduous Forest',\n",
       "     'size': 'Medium',\n",
       "     'name': 'Mistwood'}]},\n",
       "  {'location_in_world': 'West Pole',\n",
       "   'name': 'Balthor',\n",
       "   'regions': [{'location_in_continent': 'North',\n",
       "     'topography': 'Mountains',\n",
       "     'climate': 'Arctic',\n",
       "     'biome': 'Tundra',\n",
       "     'size': 'Large',\n",
       "     'name': 'Icehold'},\n",
       "    {'location_in_continent': 'East',\n",
       "     'topography': 'Forests',\n",
       "     'climate': 'Temperate',\n",
       "     'biome': 'Taiga',\n",
       "     'size': 'Medium',\n",
       "     'name': 'Duskwood'},\n",
       "    {'location_in_continent': 'South',\n",
       "     'topography': 'Mountains',\n",
       "     'climate': 'Arid',\n",
       "     'biome': 'Desert',\n",
       "     'size': 'Medium',\n",
       "     'name': 'Sandstorm'},\n",
       "    {'location_in_continent': 'West',\n",
       "     'topography': 'Islands',\n",
       "     'climate': 'Tropical',\n",
       "     'biome': 'Rainforest',\n",
       "     'size': 'Large',\n",
       "     'name': 'Jungle Archipelago'}]}]}"
      ]
     },
     "execution_count": 71,
     "metadata": {},
     "output_type": "execute_result"
    }
   ],
   "source": [
    "parsed_geography"
   ]
  },
  {
   "cell_type": "code",
   "execution_count": 73,
   "metadata": {},
   "outputs": [
    {
     "name": "stdout",
     "output_type": "stream",
     "text": [
      "The continent Almara located in the East Pole with Tundra, Taiga, Grassland, Wetland biomes.\n",
      "The continent Isalor located in the Equator with Tundra, Taiga, Rainforest, Tropical Forest, Desert, Deciduous Forest biomes.\n",
      "The continent Balthor located in the West Pole with Tundra, Taiga, Desert, Rainforest biomes.\n"
     ]
    }
   ],
   "source": [
    "geography_continent_context = []\n",
    "\n",
    "for continent in parsed_geography['continents']:\n",
    "    name = continent['name']\n",
    "    location_in_world = continent['location_in_world']\n",
    "    def get_biome(region): return region['biome']\n",
    "    biomes = map(get_biome, continent['regions'])\n",
    "    biomes = ', '.join(biomes)\n",
    "    line = f\"The continent {name} located in the {location_in_world} with {biomes} biomes.\"\n",
    "    geography_continent_context.append(line)\n",
    "\n",
    "geography_continent_context = '\\n'.join(geography_continent_context)\n",
    "print(geography_continent_context)"
   ]
  },
  {
   "cell_type": "code",
   "execution_count": 77,
   "metadata": {},
   "outputs": [
    {
     "data": {
      "text/plain": [
       "\"\\nGenerate the major fictional fantasy civilizations in the world and their major cities.\\n\\nThere MUST be at least 4 and no greater than 5 civilizations in the world.\\nThere MUST be at least 3 and no greater than 6 major cities per civilization.\\n\\nThe civlizations and settlements should exist in the world's geopgrahy, defined by the below section:\\n\\n```\\ncontinents:\\n  - \\n    location_in_world: East Pole\\n    name: Almara\\n    regions:\\n      - \\n        location_in_continent: North\\n        topography: Mountains\\n        climate: Arctic\\n        biome: Tundra\\n        size: Small\\n        name: Frosthold\\n      - \\n        location_in_continent: East\\n        topography: Forests\\n        climate: Temperate\\n        biome: Taiga\\n        size: Medium\\n        name: Linvendale\\n      - \\n        location_in_continent: South\\n        topography: Plains\\n        climate: Dry\\n        biome: Grassland\\n        size: Large\\n        name: Aridum\\n      - \\n        location_in_continent: West\\n        topography: Swamps\\n        climate: Tropical\\n        biome: Wetland\\n        size: Medium\\n        name: Murkwood\\n  - \\n    location_in_world: Equator\\n    name: Isalor\\n    regions:\\n      - \\n        location_in_continent: North\\n        topography: Mountains\\n        climate: Arctic\\n        biome: Tundra\\n        size: Medium\\n        name: Frostfall\\n      - \\n        location_in_continent: Northeast\\n        topography: Forests\\n        climate: Temperate\\n        biome: Taiga\\n        size: Large\\n        name: Elvendom\\n      - \\n        location_in_continent: East\\n        topography: Islands\\n        climate: Tropical\\n        biome: Rainforest\\n        size: Small\\n        name: Merfolk Atoll\\n      - \\n        location_in_continent: Southeast\\n        topography: Coastline\\n        climate: Humid\\n        biome: Tropical Forest\\n        size: Large\\n        name: Mauinoa\\n      - \\n        location_in_continent: South\\n        topography: Mountains\\n        climate: Arid\\n        biome: Desert\\n        size: Medium\\n        name: Sunwall\\n      - \\n        location_in_continent: West\\n        topography: Forests\\n        climate: Temperate\\n        biome: Deciduous Forest\\n        size: Medium\\n        name: Mistwood\\n  - \\n    location_in_world: West Pole\\n    name: Balthor\\n    regions:\\n      - \\n        location_in_continent: North\\n        topography: Mountains\\n        climate: Arctic\\n        biome: Tundra\\n        size: Large\\n        name: Icehold\\n      - \\n        location_in_continent: East\\n        topography: Forests\\n        climate: Temperate\\n        biome: Taiga\\n        size: Medium\\n        name: Duskwood\\n      - \\n        location_in_continent: South\\n        topography: Mountains\\n        climate: Arid\\n        biome: Desert\\n        size: Medium\\n        name: Sandstorm\\n      - \\n        location_in_continent: West\\n        topography: Islands\\n        climate: Tropical\\n        biome: Rainforest\\n        size: Large\\n        name: Jungle Archipelago\\n```\\n\\nThe response must be in the following structure.\\n\\ncivilizations:\\n    location_continent: <reference to continent in world>\\n    cities:\\n        location_region: <reference to region in world>\\n        economy_description: <string>\\n        name: <string>\\n    ruling_faction: <string>\\n    name: <string>\\n\""
      ]
     },
     "execution_count": 77,
     "metadata": {},
     "output_type": "execute_result"
    }
   ],
   "source": [
    "def civilizations_prompt(geography_context, civilizations=(4,5), settlements=(3,6)): return f\"\"\"\n",
    "Generate the major fictional fantasy civilizations in the world and their major cities.\n",
    "\n",
    "There MUST be {range(civilizations)} civilizations in the world.\n",
    "There MUST be {range(settlements)} major cities per civilization.\n",
    "\n",
    "The civlizations and settlements should exist in the world's geopgrahy, defined by the below section:\n",
    "\n",
    "```\n",
    "{geography_context}\n",
    "```\n",
    "\n",
    "The response must be in the following structure.\n",
    "\n",
    "civilizations:\n",
    "    location_continent: <reference to continent in world>\n",
    "    cities:\n",
    "        location_region: <reference to region in world>\n",
    "        economy_description: <string>\n",
    "        name: <string>\n",
    "    ruling_faction: <string>\n",
    "    name: <string>\n",
    "\"\"\"\n",
    "\n",
    "civilizations_prompt(raw_geography)"
   ]
  },
  {
   "cell_type": "code",
   "execution_count": 78,
   "metadata": {},
   "outputs": [
    {
     "name": "stdout",
     "output_type": "stream",
     "text": [
      "civilizations:\n",
      "  - \n",
      "    location_continent: Almara\n",
      "    cities:\n",
      "      - \n",
      "        location_region: Frosthold\n",
      "        economy_description: Known for their skilled blacksmiths and hunters, Frosthold's economy relies heavily on the trade of furs, meat, and weapons.\n",
      "        name: Iceforge\n",
      "      - \n",
      "        location_region: Linvendale\n",
      "        economy_description: Linvendale serves as a hub for trade and scholarship, their economy built around agriculture, lumber, and knowledge industries.\n",
      "        name: Starhaven\n",
      "      -\n",
      "        location_region: Aridum\n",
      "        economy_description: Built on the natural resources of the surrounding grasslands, Aridum has become a center for trade in textiles, spices, and luxury goods.\n",
      "        name: Oasis City\n",
      "      - \n",
      "        location_region: Murkwood\n",
      "        economy_description: Despite the dangers of the surrounding swamp, Murkwood serves as one of the main sources of fishing, lumber, and exotic plants and mushrooms.\n",
      "        name: Siltmarsh\n",
      "    ruling_faction: The Council of Elders\n",
      "    name: Alderan Dominion\n",
      "  - \n",
      "    location_continent: Isalor\n",
      "    cities:\n",
      "      - \n",
      "        location_region: Frostfall\n",
      "        economy_description: Straddling the edge of the frozen north, Frostfall's economy is centered around the sale of hunting equipment, cold-weather clothing, and resupplying caravans.\n",
      "        name: Frosthome\n",
      "      - \n",
      "        location_region: Elvendom\n",
      "        economy_description: Elvendom has become known for its skilled artisans and craftsmen, creating high-quality clothing, weapons, and works of art.\n",
      "        name: Silverleaf\n",
      "      - \n",
      "        location_region: Merfolk Atoll\n",
      "        economy_description: Situated on a network of islands, the Merfolk Atoll has become a center of trade in exotic seafood, pearls, and corals.\n",
      "        name: Pearl Cove\n",
      "      - \n",
      "        location_region: Mauinoa\n",
      "        economy_description: Nestled in a sheltered bay, Mauinoa is a thriving port city, supporting trade in textiles, spices, pottery, and precious metals.\n",
      "        name: Tidehaven\n",
      "      - \n",
      "        location_region: Sunwall\n",
      "        economy_description: Built on the edge of a vast desert, the economy of Sunwall is based around mining, trade, and transportation of precious metals, minerals, spices, and rare desert animals.\n",
      "        name: Sunhold\n",
      "      - \n",
      "        location_region: Mistwood\n",
      "        economy_description: Known for their expertise in woodworking, Mistwood has become a center for the production of boats, furniture, and other wood products.\n",
      "        name: Greymoss\n",
      "    ruling_faction: The Dragon Order\n",
      "    name: Dracoria\n",
      "  - \n",
      "    location_continent: Balthor\n",
      "    cities:\n",
      "      - \n",
      "        location_region: Icehold\n",
      "        economy_description: Surviving the harsh conditions of the far north, the inhabitants of Icehold have become experts in ice fishing, hunting, and mining.\n",
      "        name: Frosthold\n",
      "      - \n",
      "        location_region: Duskwood\n",
      "        economy_description: Nestled on the edge of a great forest, Duskwood's economy is based around forestry, agriculture, and trade in luxury goods.\n",
      "        name: Shadowdale\n",
      "      - \n",
      "        location_region: Sandstorm\n",
      "        economy_description: Built on the edge of a vast desert, Sandstorm is rich in mineral resources, making it a center of mining and trade.\n",
      "        name: Mirage Tower\n",
      "      - \n",
      "        location_region: Jungle Archipelago\n",
      "        economy_description: Spanning across a chain of islands, the Jungle Archipelago is a center of trade in exotic woods, fruits, and spices.\n",
      "        name: Emerald Haven\n",
      "    ruling_faction: The Eternal Council\n",
      "    name: Xanadu\n"
     ]
    }
   ],
   "source": [
    "(raw_civilizations, parsed_civlizations) = system_completion(civilizations_prompt(raw_geography))\n",
    "print(raw_civilizations)"
   ]
  }
 ],
 "metadata": {
  "kernelspec": {
   "display_name": "llm-gm",
   "language": "python",
   "name": "python3"
  },
  "language_info": {
   "codemirror_mode": {
    "name": "ipython",
    "version": 3
   },
   "file_extension": ".py",
   "mimetype": "text/x-python",
   "name": "python",
   "nbconvert_exporter": "python",
   "pygments_lexer": "ipython3",
   "version": "3.10.4"
  },
  "orig_nbformat": 4
 },
 "nbformat": 4,
 "nbformat_minor": 2
}
