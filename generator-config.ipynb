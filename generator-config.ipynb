{
 "cells": [
  {
   "cell_type": "code",
   "execution_count": 11,
   "metadata": {},
   "outputs": [],
   "source": [
    "class GeneratorConfig:\n",
    "    def __init__(self, entity_singular, entity_plural, prompt):\n",
    "        self.entity_singular = entity_singular\n",
    "        self.entity_plural = entity_plural\n",
    "        self.prompt = prompt"
   ]
  },
  {
   "cell_type": "code",
   "execution_count": 5,
   "metadata": {},
   "outputs": [],
   "source": [
    "from pathlib import Path\n",
    "\n",
    "organization = \"org-NaDNa5c5In5LspIF45qqArRr\" # This is mine. You should change it!\n",
    "\n",
    "keyfile = Path.home() / '.openai' / 'api.key'\n",
    "with open(keyfile) as f:\n",
    "    api_key = f.readline().strip()\n",
    "\n",
    "import openai\n",
    "openai.organization = organization\n",
    "openai.api_key = api_key\n",
    "\n",
    "gpt_model_name = \"gpt-3.5-turbo\"\n",
    "\n",
    "def basic_completion(user_prompt, max_tokens=50):\n",
    "    x = openai.ChatCompletion.create(\n",
    "        model = gpt_model_name,\n",
    "        messages = [\n",
    "            {'role': 'user', 'content': user_prompt}\n",
    "        ],\n",
    "        max_tokens = max_tokens\n",
    "    )\n",
    "    return x.choices[0].message['content']"
   ]
  },
  {
   "cell_type": "code",
   "execution_count": 10,
   "metadata": {},
   "outputs": [
    {
     "name": "stdout",
     "output_type": "stream",
     "text": [
      "# Fynthia\n",
      "\n",
      "## Aeloria\n",
      "\n",
      "Aeloria is a continent that is largely covered in dense forests and mountain ranges, with few open plains or deserts. The northwestern region of the continent is dominated by the towering Snowpeak Mountains, which are covered in snow and ice year-round. To the south of the mountains, there are vast coniferous forests known as the Wyvernwood, which is home to a variety of exotic and dangerous creatures. The central region of Aeloria is dominated by the sprawling Glimmerwood, a magical forest said to be inhabited by fairies and other mysterious beings. At the eastern coast of the continent, there is a network of rivers and swamps known as the Marshlands, which are teeming with all sorts of amphibian and reptilian creatures.\n",
      "\n",
      "The people of Aeloria are a diverse group, with a variety of races coexisting in relative peace. Elves and humans are the most common races here, and they are concentrated in the more settled regions along the coasts and rivers. Dwarves, gnomes, and halflings can also be found living in the mountainous regions of the continent, sometimes in secluded and close-knit communities. The economy of Aeloria is largely based around logging and hunting, which provide the raw materials that are needed to sustain the inhabitants.\n",
      "\n",
      "## Tornathia\n",
      "\n",
      "Tornathia is a largely barren continent, with little vegetation and few natural resources. The centerpiece of this landmass is the Great Wasteland, a vast stretch of rocky, uninhabitable terrain that covers more than 50 percent of the continent. There are several scattered oases and watering holes that provide just enough resources to sustain small settlements of hardy, desert-dwelling peoples.\n",
      "\n",
      "Due to the harsh conditions of Tornathia, most of the inhabitants are nomads who travel from place to place in search of water and sustenance. The most common races found in the region are humans and half-orcs, who are both well adapted to the brutal conditions of the Great Wasteland. Despite the general lack of resources here, there are hidden reserves of precious metals and gemstones beneath the surface, which occasionally attract prospectors and adventurers seeking to make their fortune. The few trade routes that exist in Tornathia are guarded by fierce warrior tribes who demand tribute from any outsiders who wish to travel through their land. \n",
      "\n",
      "## Arlindor\n",
      "\n",
      "Arlindor is a continent of great diversity, with a wide variety of landscapes and biomes. The northern region of the landmass is covered in dense, impenetrable forests, while the southern reaches are dominated by vast savannas and grasslands. The western coast is rocky and indented, with many natural harbors and bays, while the eastern coast is flatter and more featureless, save for a few scattered islands. The central portion of the continent is home to the Dragon's Teeth Mountains, a massive range that stretches for hundreds of miles and is said to be filled with all sorts of hidden treasures and ancient tombs.\n",
      "\n",
      "The people of Arlindor are similarly diverse, with humans, elves, and dwarves living side by side as equals. The various regions of the continent have their own distinctive cultures and ways of life, but they are broadly united under the Arlindorian banner. The economy of Arlindor is based on agriculture and trade, with the fertile southern regions providing a bounty of crops and livestock for export to other continents. In addition, Arlindor is home to several great cities that are renowned throughout the world as centers of learning and culture.\n"
     ]
    }
   ],
   "source": [
    "world_ped_prompt = \"\"\"\n",
    "Improvise a fictional fantasy world geography for a D&D 5e campaign setting.\n",
    "\n",
    "The response should be formatted as markdown, in the following format.\n",
    "\n",
    "# <World Name>\n",
    "\n",
    "## <First Continent Name>\n",
    "\n",
    "<First paragraph - Description of the continent's geography. Should desribe the major topographical features, regions, climates, and biomes. MUST NOT describe the inhabitants>\n",
    "\n",
    "<Second paragraph - Description of the economic activity, degree of settlement, and races of the inhabitants for the regions in the continent.>\n",
    "\n",
    "## <Second Continent Name>\n",
    "\n",
    "<similar>\n",
    "\n",
    "## <Third Continent Name>\n",
    "\n",
    "<similar>\n",
    "\"\"\"\n",
    "\n",
    "world = basic_completion(world_ped_prompt, max_tokens=1024)\n",
    "print(world)"
   ]
  },
  {
   "cell_type": "code",
   "execution_count": 37,
   "metadata": {},
   "outputs": [
    {
     "data": {
      "text/plain": [
       "('Fynthia',\n",
       " [('Aeloria',\n",
       "   'Aeloria is a continent that is largely covered in dense forests and mountain ranges, with few open plains or deserts. The northwestern region of the continent is dominated by the towering Snowpeak Mountains, which are covered in snow and ice year-round. To the south of the mountains, there are vast coniferous forests known as the Wyvernwood, which is home to a variety of exotic and dangerous creatures. The central region of Aeloria is dominated by the sprawling Glimmerwood, a magical forest said to be inhabited by fairies and other mysterious beings. At the eastern coast of the continent, there is a network of rivers and swamps known as the Marshlands, which are teeming with all sorts of amphibian and reptilian creatures.',\n",
       "   'The people of Aeloria are a diverse group, with a variety of races coexisting in relative peace. Elves and humans are the most common races here, and they are concentrated in the more settled regions along the coasts and rivers. Dwarves, gnomes, and halflings can also be found living in the mountainous regions of the continent, sometimes in secluded and close-knit communities. The economy of Aeloria is largely based around logging and hunting, which provide the raw materials that are needed to sustain the inhabitants.'),\n",
       "  ('Tornathia',\n",
       "   'Tornathia is a largely barren continent, with little vegetation and few natural resources. The centerpiece of this landmass is the Great Wasteland, a vast stretch of rocky, uninhabitable terrain that covers more than 50 percent of the continent. There are several scattered oases and watering holes that provide just enough resources to sustain small settlements of hardy, desert-dwelling peoples.',\n",
       "   'Due to the harsh conditions of Tornathia, most of the inhabitants are nomads who travel from place to place in search of water and sustenance. The most common races found in the region are humans and half-orcs, who are both well adapted to the brutal conditions of the Great Wasteland. Despite the general lack of resources here, there are hidden reserves of precious metals and gemstones beneath the surface, which occasionally attract prospectors and adventurers seeking to make their fortune. The few trade routes that exist in Tornathia are guarded by fierce warrior tribes who demand tribute from any outsiders who wish to travel through their land.'),\n",
       "  ('Arlindor',\n",
       "   \"Arlindor is a continent of great diversity, with a wide variety of landscapes and biomes. The northern region of the landmass is covered in dense, impenetrable forests, while the southern reaches are dominated by vast savannas and grasslands. The western coast is rocky and indented, with many natural harbors and bays, while the eastern coast is flatter and more featureless, save for a few scattered islands. The central portion of the continent is home to the Dragon's Teeth Mountains, a massive range that stretches for hundreds of miles and is said to be filled with all sorts of hidden treasures and ancient tombs.\",\n",
       "   'The people of Arlindor are similarly diverse, with humans, elves, and dwarves living side by side as equals. The various regions of the continent have their own distinctive cultures and ways of life, but they are broadly united under the Arlindorian banner. The economy of Arlindor is based on agriculture and trade, with the fertile southern regions providing a bounty of crops and livestock for export to other continents. In addition, Arlindor is home to several great cities that are renowned throughout the world as centers of learning and culture.')])"
      ]
     },
     "execution_count": 37,
     "metadata": {},
     "output_type": "execute_result"
    }
   ],
   "source": [
    "from mistletoe import Document\n",
    "\n",
    "world_doc = Document(world)\n",
    "\n",
    "raw_texts = [node.children[0].content for node in world_doc.children]\n",
    "\n",
    "world_name = raw_texts[0]\n",
    "world_name\n",
    "\n",
    "i = 0\n",
    "continent_raws = raw_texts[1:]\n",
    "continents = []\n",
    "while 3*i+2 < len(continent_raws):\n",
    "    offset = 3*i\n",
    "    name = continent_raws[offset]\n",
    "    geography = continent_raws[offset + 1]\n",
    "    economy = continent_raws[offset + 2]\n",
    "    continents.append((name, geography, economy))\n",
    "    i += 1\n",
    "\n",
    "(world_name, continents)"
   ]
  },
  {
   "cell_type": "code",
   "execution_count": 40,
   "metadata": {},
   "outputs": [
    {
     "name": "stdout",
     "output_type": "stream",
     "text": [
      "# Aeloria\n",
      "\n",
      "## Snowpeak Mountains\n",
      "\n",
      "The Snowpeak Mountains are a massive range of towering peaks, stretching across the entire northwestern region of Aeloria. These mountains are covered in snow and ice year-round, and are home to a variety of creatures adapted to the harsh environment. The sparse vegetation found here is primarily used by the hardy hunting tribes who call the mountains home. \n",
      "\n",
      "The dwarves have found ample opportunities for mining here, digging into the mountain faces to extract metal and gemstones. They've also developed an extremely tough breed of goats, which they use to transport ores and metals from their mines.\n",
      "\n",
      "## Wyvernwood\n",
      "\n",
      "The sprawling Wyvernwood is a dense forest located to the south of the Snowpeak Mountains. The forest floor is dominated by massive conifers and rich undergrowth, making it difficult to traverse. In addition to the dense fauna, the Wyvernwood is home to a variety of magical creatures. \n",
      "\n",
      "A loose band of humans and elves have made their homes in Wyvernwood. They are skilled hunters, able to find food and shelter from the forest. Their primary livelihood comes from in the form of exotic creature hunting, and selling the materials gained from those hunts to nearby towns and cities.\n",
      "\n",
      "## Glimmerwood\n",
      "\n",
      "The Glimmerwood is a mystical woodland at the center of Aeloria. The forest is shrouded in a misty aura that has led many to believe that the forest itself is sentient. It is home to fantastical flora and fauna, and is the rumored home of the fairies and other magical creatures. \n",
      "\n",
      "The humans and elves who live in the Glimmerwood are literate and extremely attuned to the magic surrounding them. They have mastered the art of alchemy, using the botanical ingredients and other exotic materials found in the forest to produce potent potions and magical items. \n",
      "\n",
      "## Marshlands\n",
      "\n",
      "The Marshlands are a network of rivers and swamps located on the eastern coast of Aeloria. The moist environment is perfect for a variety of amphibious creatures, from frogs and snakes to giant crocodiles and the elusive dragon turtle. The constant damp has also led to the growth of unique and exotic plant species, many of which have potential for medicinal and magical use. \n",
      "\n",
      "The Halflings have embraced this environment as their own, having developed boat-dwelling communities to navigate the swampy landscape. Some of these communities have direct trading relationships with seafaring merchants, giving them access to a wider range of goods.\n"
     ]
    }
   ],
   "source": [
    "def continent_ped_prompt(continent): return f\"\"\"\n",
    "Improvise the details of a continent's regions in a fantasy world for a D&D 5e campaign setting.\n",
    "\n",
    "The continent's name is {(continent[0])}\n",
    "{continent[1]}\n",
    "{continent[2]}\n",
    "\n",
    "The response should be formatted as markdown, in the following format.\n",
    "\n",
    "# <Continent Name>\n",
    "\n",
    "## <First Region Name>\n",
    "\n",
    "<First paragraph - Description of the region's geography. Should describe geographical points of interest, climate, biome, and natural resources. MUST NOT describe the inhabitants.>\n",
    "\n",
    "<Second paragraph - Description of the region's inhabitants. Should describe the races, major economic activities, and the major power factions.>\n",
    "\n",
    "## <Second Region Name>\n",
    "\n",
    "<similar>\n",
    "\n",
    "...etc\n",
    "\n",
    "\"\"\"\n",
    "\n",
    "continent_response = basic_completion(continent_ped_prompt(continents[0]), max_tokens=1024)\n",
    "print(continent_response)"
   ]
  },
  {
   "cell_type": "code",
   "execution_count": 41,
   "metadata": {},
   "outputs": [
    {
     "data": {
      "text/plain": [
       "('Aeloria',\n",
       " [('Snowpeak Mountains',\n",
       "   'The Snowpeak Mountains are a massive range of towering peaks, stretching across the entire northwestern region of Aeloria. These mountains are covered in snow and ice year-round, and are home to a variety of creatures adapted to the harsh environment. The sparse vegetation found here is primarily used by the hardy hunting tribes who call the mountains home.',\n",
       "   \"The dwarves have found ample opportunities for mining here, digging into the mountain faces to extract metal and gemstones. They've also developed an extremely tough breed of goats, which they use to transport ores and metals from their mines.\"),\n",
       "  ('Wyvernwood',\n",
       "   'The sprawling Wyvernwood is a dense forest located to the south of the Snowpeak Mountains. The forest floor is dominated by massive conifers and rich undergrowth, making it difficult to traverse. In addition to the dense fauna, the Wyvernwood is home to a variety of magical creatures.',\n",
       "   'A loose band of humans and elves have made their homes in Wyvernwood. They are skilled hunters, able to find food and shelter from the forest. Their primary livelihood comes from in the form of exotic creature hunting, and selling the materials gained from those hunts to nearby towns and cities.'),\n",
       "  ('Glimmerwood',\n",
       "   'The Glimmerwood is a mystical woodland at the center of Aeloria. The forest is shrouded in a misty aura that has led many to believe that the forest itself is sentient. It is home to fantastical flora and fauna, and is the rumored home of the fairies and other magical creatures.',\n",
       "   'The humans and elves who live in the Glimmerwood are literate and extremely attuned to the magic surrounding them. They have mastered the art of alchemy, using the botanical ingredients and other exotic materials found in the forest to produce potent potions and magical items.'),\n",
       "  ('Marshlands',\n",
       "   'The Marshlands are a network of rivers and swamps located on the eastern coast of Aeloria. The moist environment is perfect for a variety of amphibious creatures, from frogs and snakes to giant crocodiles and the elusive dragon turtle. The constant damp has also led to the growth of unique and exotic plant species, many of which have potential for medicinal and magical use.',\n",
       "   'The Halflings have embraced this environment as their own, having developed boat-dwelling communities to navigate the swampy landscape. Some of these communities have direct trading relationships with seafaring merchants, giving them access to a wider range of goods.')])"
      ]
     },
     "execution_count": 41,
     "metadata": {},
     "output_type": "execute_result"
    }
   ],
   "source": [
    "from mistletoe import Document\n",
    "\n",
    "continent_doc = Document(continent_response)\n",
    "\n",
    "raw_texts = [node.children[0].content for node in continent_doc.children]\n",
    "\n",
    "continent_name = raw_texts[0]\n",
    "continent_name\n",
    "\n",
    "i = 0\n",
    "region_raws = raw_texts[1:]\n",
    "regions = []\n",
    "while 3*i+2 < len(region_raws):\n",
    "    offset = 3*i\n",
    "    name = region_raws[offset]\n",
    "    geography = region_raws[offset + 1]\n",
    "    economy = region_raws[offset + 2]\n",
    "    regions.append((name, geography, economy))\n",
    "    i += 1\n",
    "\n",
    "(continent_name, regions)"
   ]
  },
  {
   "cell_type": "code",
   "execution_count": 47,
   "metadata": {},
   "outputs": [
    {
     "name": "stdout",
     "output_type": "stream",
     "text": [
      "# Snowpeak Mountains\n",
      "\n",
      "## Frosthold\n",
      "\n",
      "Frosthold is a small hunting village located in the heart of the Snowpeak Mountains. The village is home to a handful of hardy tribes who have learned to survive in the harsh environment. These tribes rely on hunting and gathering for their survival, using the sparse vegetation found in the area. Occasionally, they trade with passing caravan merchants who are willing to brave the treacherous terrain.\n",
      "\n",
      "The tribes are fiercely independent and often engage in skirmishes with each other, but they all share a common enemy in the creatures that lurk in the mountains. \n",
      "\n",
      "## Ironhold\n",
      "\n",
      "Ironhold is a dwarven mining town located deep within the Snowpeak Mountains. The dwarves have carved out an entire city within the mountain, complete with homes, shops, and even a temple to Moradin. The town's primary industry is mining, with the dwarves extracting metal and gemstones from the mountain faces. They've also developed their own breed of extremely tough goats, which they use to transport ores and metals from the mines.\n",
      "\n",
      "Ironhold is ruled by a council of the most powerful and influential dwarves in the town. The council makes decisions related to the town's safety, expansion, and trade. The dwarves are generally unfriendly to outsiders and do not take kindly to anyone interfering with their mining operations. \n",
      "\n",
      "## Summit's Rest\n",
      "\n",
      "Summit's Rest is a remote monastery located near the peak of one of the highest mountains in the Snowpeak range. The monks who reside here are masters of martial arts and magic, and are said to be able to control the elements themselves. They provide spiritual guidance to those who seek it, as well as shelter to those who are lost or injured in the mountains. \n",
      "\n",
      "The monks of Summit's Rest are neutral in regards to outside conflicts, but will defend themselves and their teachings if threatened. They are always seeking to improve their own abilities and knowledge, and will often send their most promising students out into the world to learn and gain experience.\n"
     ]
    }
   ],
   "source": [
    "def region_ped_prompt(region): return f\"\"\"\n",
    "Improvise the details of a region's settlements in a fantasy world for a D&D 5e campaign setting.\n",
    "\n",
    "The region's name is {region[0]}\n",
    "{region[1]}\n",
    "{region[2]}\n",
    "\n",
    "The response should be formatted as markdown, in the following format.\n",
    "\n",
    "# Region Name\n",
    "\n",
    "## <First Settlement Name>\n",
    "\n",
    "<First paragraph - Description of the settlement's location, economy, and size>\n",
    "\n",
    "<Second paragraph - Description of the settlement's politics>\n",
    "\n",
    "## <Second Settlement Name>\n",
    "\n",
    "<similar>\n",
    "\n",
    "...etc\n",
    "\n",
    "\"\"\"\n",
    "\n",
    "region_response = basic_completion(region_ped_prompt(regions[0]), max_tokens=1024)\n",
    "print(region_response)"
   ]
  },
  {
   "cell_type": "code",
   "execution_count": 43,
   "metadata": {},
   "outputs": [
    {
     "name": "stdout",
     "output_type": "stream",
     "text": [
      "# Wyvernwood\n",
      "\n",
      "## Deepwood Village\n",
      "\n",
      "Deepwood Village is the largest settlement in Wyvernwood, located in a clearing deep in the forest. The village is primarily made up of simple wooden structures, surrounded by tall wooden walls that protect against the dangerous creatures that roam the forest. The economy of Deepwood Village is centered around exotic creature hunting, with most of the village's inhabitants earning a living from selling the materials they gather from their hunts. Despite the dangers of their livelihood, the people of Deepwood Village are a close-knit community, relying on each other to survive in the forest.\n",
      "\n",
      "Politically, Deepwood Village is led by a council of elders, made up of the most respected members of the community. The council makes decisions for the village as a whole, working to protect the people from the dangers of the forest while also ensuring that everyone has enough to eat. Conflict within the village is rare, as the people of Deepwood are bonded together by their shared experiences living in the forest.\n",
      "\n",
      "## Elvish Enclave\n",
      "\n",
      "Hidden deep in the forest, the Elvish Enclave is a small settlement of reclusive elves. The enclave is comprised of a series of treehouses connected by vines and bridges, giving the community a treetop view of the forest. The elves of the enclave are skilled hunters and gatherers, relying on the bounty of the forest to sustain themselves. However, they are also skilled in magic, using their abilities to ward off threats to their community.\n",
      "\n",
      "Politically, the Elvish Enclave is led by a council of sages, who make decisions by communing with the forest spirits. The rules of the enclave are strict, with outsiders not allowed to enter and the community's secrets guarded closely. Nevertheless, the elves of the enclave are not hostile to outsiders, and will trade with other settlements if necessary. \n",
      "\n",
      "## Ironwood Outpost\n",
      "\n",
      "Located on the edge of Wyvernwood, Ironwood Outpost is a small fortified settlement that acts as a gateway between the forest and the outside world. The outpost is built of sturdy, fortified stone walls with a watchtower overlooking the forest. The settlers of Ironwood Outpost make a living by trading with nearby settlements, acting as a middleman for the exotic goods gathered from the forest.\n",
      "\n",
      "Politically, Ironwood Outpost is led by a governor appointed by the nearest city. The outpost is heavily fortified, and the governor is quick to act against any threats that may arise from the forest. The people of Ironwood Outpost are mostly human merchants, but there have been a few elven traders passing through the outpost as well.\n"
     ]
    }
   ],
   "source": [
    "region_response = basic_completion(region_ped_prompt(regions[1]), max_tokens=1024)\n",
    "print(region_response)"
   ]
  },
  {
   "cell_type": "code",
   "execution_count": 44,
   "metadata": {},
   "outputs": [
    {
     "name": "stdout",
     "output_type": "stream",
     "text": [
      "# Glimmerwood\n",
      "\n",
      "## Faerieland\n",
      "\n",
      "Faerieland is a small collection of homes and shops built into the trees of the Glimmerwood. The people of Faerieland are known for their handcrafted goods that sell for high prices in bigger cities. The economy is largely run on bartering with other settlements, but some traders will occasionally travel to Faerieland to purchase goods to bring elsewhere. The settlement is home to primarily elves, who revere the fairies and often work with them on various enchantments to enhance their wares. \n",
      "\n",
      "Politically, Faerieland operates in a more communal fashion, with a council of village elders who make decisions for the group. Disagreements within the council are handled through discussion and debate, with a focus on maintaining harmony within the village. Punishments for crimes are usually handled through community service or a payment to the victim, and more serious crimes are rare due to the small size of the settlement and the tight-knit community. \n",
      "\n",
      "## Bellehaven\n",
      "\n",
      "Bellehaven is a slightly larger settlement than Faerieland, with just over 100 inhabitants. The town's main economy comes from the sale of alchemical goods crafted using local resources, with potions and salves being their most popular export. Bellehaven also sees merchants traveling through on occasion, and will occasionally host traveling performances for entertainment. \n",
      "\n",
      "The politics of Bellehaven are more hierarchical than Faerieland, with a mayor serving as the town's leader. The mayor is elected every five years by eligible voters within the town and has the ability to make and enforce laws. The town's laws are fairly strict and punishments are severe, but there are few problems with crime due to the watchful eyes of the town's residents. The residents of Bellehaven are primarily human, and are known for their overall academic prowess, having several acclaimed schools and libraries within the settlement. \n",
      "\n",
      "## Starlight Grove\n",
      "\n",
      "Starlight Grove is a small trading post that has grown around a magical portal located in the center of the forest. Travelers from all over come to see the portal, which is rumored to lead to other planes of existence. The economy of Starlight Grove is largely fueled by travelers and merchants, with prices varying greatly due to the rarity of some of the goods available. \n",
      "\n",
      "Politically, Starlight Grove is more relaxed than either Bellehaven or Faerieland, with few laws and even fewer permanent residents. The town is operated by a group of three merchants who handle trade disputes and ensure the safety of the town's visitors. The town's lack of laws and relative freedom has led to an increase in illegal activity, but the merchants are quick to deal with any issues that arise. The majority of Starlight Grove's inhabitants are traders or adventurers passing through, with few permanent residents.\n"
     ]
    }
   ],
   "source": [
    "region_response = basic_completion(region_ped_prompt(regions[2]), max_tokens=1024)\n",
    "print(region_response)"
   ]
  },
  {
   "cell_type": "code",
   "execution_count": 45,
   "metadata": {},
   "outputs": [
    {
     "name": "stdout",
     "output_type": "stream",
     "text": [
      "# Marshlands\n",
      "\n",
      "## Riverhaven\n",
      "\n",
      "Nestled on the banks of a wide river, Riverhaven is a bustling Halfling community consisting of a network of boats and floating platforms. The Halflings here make their living from fishing, hunting the local swamp creatures, and collecting plants and herbs for medicinal and magical use. The settlement is of moderate size, with around 200 permanent residents and another 100 or so visitors passing through at any given time.\n",
      "\n",
      "Politically, Riverhaven is largely independent, but the Halflings here maintain trade relationships with seafaring merchants, allowing them to access a wider range of goods. The community is ruled by an elected council of elders, who moderate disputes and oversee the settlement's defense.\n",
      "\n",
      "## Mudtown\n",
      "\n",
      "Located on the edge of a large swamp, Mudtown is a scrappy Halfling settlement resembling a shanty town of ramshackle huts and tents. The Halflings here eke out a living through scavenging, stealing, and occasional trading with Riverhaven or direct traders.\n",
      "\n",
      "Politically, Mudtown is a place of anarchy, with no central authority or law enforcement. Instead, the strongest members of the community enforce their own version of justice, frequently resorting to violence to resolve disputes. Despite its precarious situation, Mudtown's inhabitants are fiercely independent and will not hesitate to defend their patch of swamp from incursion by outsiders.\n",
      "\n",
      "## Daggerhold\n",
      "\n",
      "Built on a rocky outcropping overlooking a marshy delta, Daggerhold is a fortified settlement built by the ill-fated human occupation of the Marshlands. The human inhabitants have long since abandoned Daggerhold, leaving behind a mix of ruins and thriving Halfling squatters.\n",
      "\n",
      "The Halflings here have repurposed the humans' walls and watchtowers for their own defense and expanded the settlement with their own constructions. Daggerhold is notable for its strategic location, making it an ideal spot for smugglers and bandits to hide out, but also leaving it vulnerable to attack from larger groups of raiders or adventurers. Much of Daggerhold's political situation is determined by the group which holds the most sway among the Halfling residents, with power struggles and alliances constantly shifting.\n"
     ]
    }
   ],
   "source": [
    "region_response = basic_completion(region_ped_prompt(regions[3]), max_tokens=1024)\n",
    "print(region_response)"
   ]
  },
  {
   "cell_type": "code",
   "execution_count": 50,
   "metadata": {},
   "outputs": [
    {
     "name": "stdout",
     "output_type": "stream",
     "text": [
      "# Swamp Skirmish\n",
      "\n",
      "## Gatorgore Gang\n",
      "\n",
      "The Gatorgore Gang, a group of unsavory sorts who make their living by poaching giant alligators and selling the hide, meat, and teeth for profit. They have recently begun encroaching on Mudtown and causing trouble for the Halflings. Led by a half-orc named Grimgor Gatorgore, the gang consists of a mixture of human, half-orc, and half-elf thugs.\n",
      "\n",
      "## A Call for Help\n",
      "\n",
      "As the players are walking through Riverhaven, they hear a commotion coming from the direction of the Halfling district. Running to see what's going on, they find a group of Halflings gathered around a man who appears to be their leader. He introduces himself as Kipper, the de facto leader of Mudtown, and asks the adventurers to help his people deal with the Gatorgore Gang's harassment.\n",
      "\n",
      "## Friendly Faces\n",
      "\n",
      "While in Mudtown, the players can interact with several friendly NPCs who could provide useful information and hooks for the upcoming encounters. These could include a friendly Halfling trader who is looking to hire guards for her shipments, a gruff old trapper who has a lot of knowledge about the swamp, and a retired adventurer who now runs a bar in Mudtown and can give advice on how to deal with the Gatorgore Gang.\n",
      "\n",
      "## Ambush in the Swamp\n",
      "\n",
      "As the players make their way towards the Gatorgore Gang's hideout, they are ambushed by a group of the gang's thugs. The encounter takes place in a murky swamp, with difficult terrain and several large trees for cover. The enemies are a mixture of melee fighters and ranged attackers, and the half-orc Grimgor may make a surprise appearance as a boss for this encounter.\n",
      "\n",
      "## The Final Fight\n",
      "\n",
      "After defeating the ambushers, the players find the entrance to the Gatorgore Gang's hideout in a nearby cave. The final fight takes place in a large chamber filled with mud pits and alligator nests. The players face off against Grimgor Gatorgore and his most trusted lieutenants, alongside several trained alligators. To provide an additional challenge, the gang has set traps and snares throughout the cavern. The key to victory may be in freeing some of the trapped alligators, which can turn the tide of the battle in the players' favor.\n"
     ]
    }
   ],
   "source": [
    "oneshot_ped_prompt = \"\"\"\n",
    "Located on the edge of a large swamp, Mudtown is a scrappy Halfling settlement resembling a shanty town of ramshackle huts and tents. The Halflings here eke out a living through scavenging, stealing, and occasional trading with Riverhaven or direct traders.\n",
    "\n",
    "Politically, Mudtown is a place of anarchy, with no central authority or law enforcement. Instead, the strongest members of the community enforce their own version of justice, frequently resorting to violence to resolve disputes. Despite its precarious situation, Mudtown's inhabitants are fiercely independent and will not hesitate to defend their patch of swamp from incursion by outsiders.\n",
    "\n",
    "Improvise the details of a one-shot adventure in Riverhaven for a D&D 5e setting.\n",
    "\n",
    "The difficulty of the adventure should be tailored to a group of level 1 characters.\n",
    "\n",
    "The complexity and linearity of the adventure should be tailored to new players, and should not take more than 3 hours.\n",
    "\n",
    "The response should have the following format:\n",
    "\n",
    "# <Campaign Name>\n",
    "\n",
    "## <Antagonist's Name>\n",
    "\n",
    "<Paragraph - A description of the antagonists acting in the adventure, including specific hostile NPCs>\n",
    "\n",
    "## <Name of Exposition Act>\n",
    "\n",
    "<Paragraph - A scene where the players' characters meet eachother and an NPC delivers the quest>\n",
    "\n",
    "<Paragraph - Some other notable friendly NPCs in the setting which provide hooks to guide the players to the first encounter>\n",
    "\n",
    "## <Name of Rising Action Act>\n",
    "\n",
    "<Paragraph - A simple encounter, with terrain and enemy details>\n",
    "\n",
    "<Paragraph - A scene after the first encounter with an obvious hook to guide the players to the final encounter>\n",
    "\n",
    "## <Name of Climax Act>\n",
    "\n",
    "<Paragraph - A more challenging final encounter, with terrain and enemy details>\n",
    "\"\"\"\n",
    "\n",
    "oneshot_response = basic_completion(oneshot_ped_prompt, max_tokens=2048)\n",
    "print(oneshot_response)"
   ]
  }
 ],
 "metadata": {
  "kernelspec": {
   "display_name": "llm-gm",
   "language": "python",
   "name": "python3"
  },
  "language_info": {
   "codemirror_mode": {
    "name": "ipython",
    "version": 3
   },
   "file_extension": ".py",
   "mimetype": "text/x-python",
   "name": "python",
   "nbconvert_exporter": "python",
   "pygments_lexer": "ipython3",
   "version": "3.10.4"
  },
  "orig_nbformat": 4
 },
 "nbformat": 4,
 "nbformat_minor": 2
}
